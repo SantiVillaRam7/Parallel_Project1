{
 "cells": [
  {
   "cell_type": "code",
   "execution_count": 2,
   "id": "2067af45",
   "metadata": {},
   "outputs": [
    {
     "name": "stdout",
     "output_type": "stream",
     "text": [
      "✅ Todos los datasets fueron generados.\n"
     ]
    }
   ],
   "source": [
    "from sklearn.datasets import make_blobs\n",
    "import numpy as np\n",
    "\n",
    "for n_points in [20000, 40000, 80000, 120000, 140000, 160000, 180000, 200000]:\n",
    "    points, _ = make_blobs(\n",
    "        n_samples=n_points,\n",
    "        centers=4,\n",
    "        cluster_std=0.06,\n",
    "        random_state=11,\n",
    "        center_box=(0, 1.0)\n",
    "    )\n",
    "    points = np.round(np.abs(points[:, ::-1]), 3)\n",
    "    np.savetxt(f\"input/{n_points}_data.csv\", points, delimiter=\",\", fmt=\"%.3f\")\n",
    "\n",
    "print(\"✅ Todos los datasets fueron generados.\")\n"
   ]
  }
 ],
 "metadata": {
  "kernelspec": {
   "display_name": "Python 3",
   "language": "python",
   "name": "python3"
  },
  "language_info": {
   "codemirror_mode": {
    "name": "ipython",
    "version": 3
   },
   "file_extension": ".py",
   "mimetype": "text/x-python",
   "name": "python",
   "nbconvert_exporter": "python",
   "pygments_lexer": "ipython3",
   "version": "3.9.6"
  }
 },
 "nbformat": 4,
 "nbformat_minor": 5
}
